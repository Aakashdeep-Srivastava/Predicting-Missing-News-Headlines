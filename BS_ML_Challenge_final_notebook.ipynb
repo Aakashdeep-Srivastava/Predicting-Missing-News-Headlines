{
  "cells": [
    {
      "cell_type": "code",
      "execution_count": null,
      "id": "429db1a8-e071-4420-83ca-b61aa552c40c",
      "metadata": {
        "id": "429db1a8-e071-4420-83ca-b61aa552c40c",
        "outputId": "2a795c8e-46a3-4523-95b1-6a77940198b3"
      },
      "outputs": [
        {
          "name": "stdout",
          "output_type": "stream",
          "text": [
            "Requirement already satisfied: openai==0.28 in c:\\users\\rites\\appdata\\local\\programs\\python\\python312\\lib\\site-packages (0.28.0)\n",
            "Requirement already satisfied: requests>=2.20 in c:\\users\\rites\\appdata\\local\\programs\\python\\python312\\lib\\site-packages (from openai==0.28) (2.32.3)\n",
            "Requirement already satisfied: tqdm in c:\\users\\rites\\appdata\\local\\programs\\python\\python312\\lib\\site-packages (from openai==0.28) (4.66.5)\n",
            "Requirement already satisfied: aiohttp in c:\\users\\rites\\appdata\\local\\programs\\python\\python312\\lib\\site-packages (from openai==0.28) (3.10.5)\n",
            "Requirement already satisfied: charset-normalizer<4,>=2 in c:\\users\\rites\\appdata\\local\\programs\\python\\python312\\lib\\site-packages (from requests>=2.20->openai==0.28) (3.3.2)\n",
            "Requirement already satisfied: idna<4,>=2.5 in c:\\users\\rites\\appdata\\local\\programs\\python\\python312\\lib\\site-packages (from requests>=2.20->openai==0.28) (3.8)\n",
            "Requirement already satisfied: urllib3<3,>=1.21.1 in c:\\users\\rites\\appdata\\local\\programs\\python\\python312\\lib\\site-packages (from requests>=2.20->openai==0.28) (2.2.3)\n",
            "Requirement already satisfied: certifi>=2017.4.17 in c:\\users\\rites\\appdata\\local\\programs\\python\\python312\\lib\\site-packages (from requests>=2.20->openai==0.28) (2024.8.30)\n",
            "Requirement already satisfied: aiohappyeyeballs>=2.3.0 in c:\\users\\rites\\appdata\\local\\programs\\python\\python312\\lib\\site-packages (from aiohttp->openai==0.28) (2.4.0)\n",
            "Requirement already satisfied: aiosignal>=1.1.2 in c:\\users\\rites\\appdata\\local\\programs\\python\\python312\\lib\\site-packages (from aiohttp->openai==0.28) (1.3.1)\n",
            "Requirement already satisfied: attrs>=17.3.0 in c:\\users\\rites\\appdata\\local\\programs\\python\\python312\\lib\\site-packages (from aiohttp->openai==0.28) (24.2.0)\n",
            "Requirement already satisfied: frozenlist>=1.1.1 in c:\\users\\rites\\appdata\\local\\programs\\python\\python312\\lib\\site-packages (from aiohttp->openai==0.28) (1.4.1)\n",
            "Requirement already satisfied: multidict<7.0,>=4.5 in c:\\users\\rites\\appdata\\local\\programs\\python\\python312\\lib\\site-packages (from aiohttp->openai==0.28) (6.1.0)\n",
            "Requirement already satisfied: yarl<2.0,>=1.0 in c:\\users\\rites\\appdata\\local\\programs\\python\\python312\\lib\\site-packages (from aiohttp->openai==0.28) (1.11.1)\n",
            "Requirement already satisfied: colorama in c:\\users\\rites\\appdata\\local\\programs\\python\\python312\\lib\\site-packages (from tqdm->openai==0.28) (0.4.6)\n",
            "Requirement already satisfied: pandas in c:\\users\\rites\\appdata\\local\\programs\\python\\python312\\lib\\site-packages (2.2.2)\n"
          ]
        },
        {
          "name": "stderr",
          "output_type": "stream",
          "text": [
            "ERROR: Could not find a version that satisfies the requirement as (from versions: none)\n",
            "ERROR: No matching distribution found for as\n"
          ]
        }
      ],
      "source": [
        "!pip install openai==0.28\n",
        "!pip install pandas as pd"
      ]
    },
    {
      "cell_type": "markdown",
      "id": "6e638fb3-90f3-4261-92eb-b76c14b25e76",
      "metadata": {
        "id": "6e638fb3-90f3-4261-92eb-b76c14b25e76"
      },
      "source": [
        "# Using gpt-3.5 turbo gives Acc -> 72"
      ]
    },
    {
      "cell_type": "code",
      "execution_count": null,
      "id": "0d078ad0-1691-4a19-84f7-1a5a4bfe341a",
      "metadata": {
        "id": "0d078ad0-1691-4a19-84f7-1a5a4bfe341a"
      },
      "outputs": [],
      "source": [
        "import openai\n",
        "import pandas as pd\n",
        "\n",
        "# Initialize OpenAI API key\n",
        "openai.api_key = 'XXXXX'\n",
        "\n",
        "# Load your dataset (ensure the dataset has columns 'news' and 'headline')\n",
        "data = pd.read_csv('unlabelled_test_set_t3.csv')\n",
        "\n",
        "import re\n",
        "\n",
        "# Function to query GPT-4 API with the context (full news content and headline)\n",
        "def get_response(news_content, headline):\n",
        "    messages = [\n",
        "        {\n",
        "            \"role\": \"system\",\n",
        "            \"content\": \"You are an AI assistant that helps fill in the missing numbers in news headlines based on the content of the news.\"\n",
        "        },\n",
        "        {\n",
        "            \"role\": \"user\",\n",
        "            \"content\": f\"Based on the following news: '{news_content}', fill in the missing number in this headline: '{headline}'\"\n",
        "        }\n",
        "    ]\n",
        "    try:\n",
        "        response = openai.ChatCompletion.create(\n",
        "            model=\"gpt-3.5-turbo\",  # You can switch to 'gpt-4' if available\n",
        "            messages=messages,\n",
        "            max_tokens=100,  # Reduce token limit for concise responses\n",
        "            temperature=0.3\n",
        "        )\n",
        "        result = response['choices'][0]['message']['content'].strip()\n",
        "        # Extract numeric value using regex\n",
        "        match = re.search(r'\\d+', result)\n",
        "        if match:\n",
        "            return match.group()\n",
        "        else:\n",
        "            return \"No number found in response.\"\n",
        "    except Exception as e:\n",
        "        print(f\"Error getting response from OpenAI: {e}\")\n",
        "        return \"An error occurred while processing your query.\"\n",
        "\n",
        "# Apply the prediction function to each row\n",
        "def predict_missing_value(row):\n",
        "    news_content = row['news']   # Full news content from the 'news' column\n",
        "    headline = row['headline']   # Headline with a missing number\n",
        "    return get_response(news_content, headline)\n",
        "\n",
        "# Create a new column 'predicted_value' in the DataFrame by applying the function\n",
        "data['predicted_value'] = data.apply(predict_missing_value, axis=1)\n",
        "\n",
        "# Save the output to a new CSV file\n",
        "data.to_csv('last/lastpredicted_news_data.csv', index=False)"
      ]
    },
    {
      "cell_type": "code",
      "execution_count": null,
      "id": "2ac682a2-797f-42a8-9896-bfe1e5a0aff7",
      "metadata": {
        "id": "2ac682a2-797f-42a8-9896-bfe1e5a0aff7"
      },
      "outputs": [],
      "source": [
        "predicted = pd.read_csv('last/lastpredicted_news_data.csv')"
      ]
    },
    {
      "cell_type": "code",
      "execution_count": null,
      "id": "a95e7b29-9caa-44e3-b7b1-c9be912687ca",
      "metadata": {
        "id": "a95e7b29-9caa-44e3-b7b1-c9be912687ca",
        "outputId": "f55f9edc-07cf-43d1-9160-bf4816944716"
      },
      "outputs": [
        {
          "data": {
            "text/html": [
              "<div>\n",
              "<style scoped>\n",
              "    .dataframe tbody tr th:only-of-type {\n",
              "        vertical-align: middle;\n",
              "    }\n",
              "\n",
              "    .dataframe tbody tr th {\n",
              "        vertical-align: top;\n",
              "    }\n",
              "\n",
              "    .dataframe thead th {\n",
              "        text-align: right;\n",
              "    }\n",
              "</style>\n",
              "<table border=\"1\" class=\"dataframe\">\n",
              "  <thead>\n",
              "    <tr style=\"text-align: right;\">\n",
              "      <th></th>\n",
              "      <th>ID</th>\n",
              "      <th>news</th>\n",
              "      <th>headline</th>\n",
              "      <th>predicted_value</th>\n",
              "    </tr>\n",
              "  </thead>\n",
              "  <tbody>\n",
              "    <tr>\n",
              "      <th>0</th>\n",
              "      <td>TEST_1</td>\n",
              "      <td>(Dec 6, 2019 2:50 PM) Elizabeth Warren is in e...</td>\n",
              "      <td>Warren Is First of ____-Something Candidates O...</td>\n",
              "      <td>70</td>\n",
              "    </tr>\n",
              "    <tr>\n",
              "      <th>1</th>\n",
              "      <td>TEST_2</td>\n",
              "      <td>(Sep 20, 2019 1:52 AM CDT) Gun-maker Colt is s...</td>\n",
              "      <td>Colt Suspends Production of AR-____ Rifles for...</td>\n",
              "      <td>15</td>\n",
              "    </tr>\n",
              "    <tr>\n",
              "      <th>2</th>\n",
              "      <td>TEST_3</td>\n",
              "      <td>(Oct 19, 2020 3:00 AM CDT) David Perdue's perc...</td>\n",
              "      <td>He Mocked Kamala's Name, Scored $____M... for ...</td>\n",
              "      <td>1</td>\n",
              "    </tr>\n",
              "    <tr>\n",
              "      <th>3</th>\n",
              "      <td>TEST_4</td>\n",
              "      <td>(Jul 1, 2020 8:41 AM CDT) You're not supposed ...</td>\n",
              "      <td>Here Comes the Sunâ€”____ Years of It, in One ...</td>\n",
              "      <td>10</td>\n",
              "    </tr>\n",
              "    <tr>\n",
              "      <th>4</th>\n",
              "      <td>TEST_5</td>\n",
              "      <td>(Aug 28, 2020 2:33 PM CDT) Health officials in...</td>\n",
              "      <td>____ Test Positive for COVID at RNC</td>\n",
              "      <td>No number found in response.</td>\n",
              "    </tr>\n",
              "    <tr>\n",
              "      <th>...</th>\n",
              "      <td>...</td>\n",
              "      <td>...</td>\n",
              "      <td>...</td>\n",
              "      <td>...</td>\n",
              "    </tr>\n",
              "    <tr>\n",
              "      <th>704</th>\n",
              "      <td>TEST_705</td>\n",
              "      <td>(Oct 23, 2010 1:30 PM CDT) Hollywood's million...</td>\n",
              "      <td>Liam Neeson Nabs Mel's Spot in Hangover ____</td>\n",
              "      <td>2</td>\n",
              "    </tr>\n",
              "    <tr>\n",
              "      <th>705</th>\n",
              "      <td>TEST_706</td>\n",
              "      <td>(May 19, 2009 12:25 PM CDT) Los Angeles police...</td>\n",
              "      <td>Dolla Shooting Suspect Held on $____M Bail</td>\n",
              "      <td>1</td>\n",
              "    </tr>\n",
              "    <tr>\n",
              "      <th>706</th>\n",
              "      <td>TEST_707</td>\n",
              "      <td>(Apr 14, 2012 4:29 PM CDT) Purdue University e...</td>\n",
              "      <td>Rube Goldberg Machine Pops Balloon in ____ Steps</td>\n",
              "      <td>300</td>\n",
              "    </tr>\n",
              "    <tr>\n",
              "      <th>707</th>\n",
              "      <td>TEST_708</td>\n",
              "      <td>(Apr 14, 2012 2:15 PM CDT) Egypt's election co...</td>\n",
              "      <td>Egypt Bars ____ Hopefuls From Presidential Ele...</td>\n",
              "      <td>10</td>\n",
              "    </tr>\n",
              "    <tr>\n",
              "      <th>708</th>\n",
              "      <td>TEST_709</td>\n",
              "      <td>(Jun 17, 2016 9:20 AM CDT) A new study out of ...</td>\n",
              "      <td>Exactly ____ Premarital Sex Partners Ups Divor...</td>\n",
              "      <td>No number found in response.</td>\n",
              "    </tr>\n",
              "  </tbody>\n",
              "</table>\n",
              "<p>709 rows × 4 columns</p>\n",
              "</div>"
            ],
            "text/plain": [
              "           ID                                               news  \\\n",
              "0      TEST_1  (Dec 6, 2019 2:50 PM) Elizabeth Warren is in e...   \n",
              "1      TEST_2  (Sep 20, 2019 1:52 AM CDT) Gun-maker Colt is s...   \n",
              "2      TEST_3  (Oct 19, 2020 3:00 AM CDT) David Perdue's perc...   \n",
              "3      TEST_4  (Jul 1, 2020 8:41 AM CDT) You're not supposed ...   \n",
              "4      TEST_5  (Aug 28, 2020 2:33 PM CDT) Health officials in...   \n",
              "..        ...                                                ...   \n",
              "704  TEST_705  (Oct 23, 2010 1:30 PM CDT) Hollywood's million...   \n",
              "705  TEST_706  (May 19, 2009 12:25 PM CDT) Los Angeles police...   \n",
              "706  TEST_707  (Apr 14, 2012 4:29 PM CDT) Purdue University e...   \n",
              "707  TEST_708  (Apr 14, 2012 2:15 PM CDT) Egypt's election co...   \n",
              "708  TEST_709  (Jun 17, 2016 9:20 AM CDT) A new study out of ...   \n",
              "\n",
              "                                              headline  \\\n",
              "0    Warren Is First of ____-Something Candidates O...   \n",
              "1    Colt Suspends Production of AR-____ Rifles for...   \n",
              "2    He Mocked Kamala's Name, Scored $____M... for ...   \n",
              "3    Here Comes the Sunâ€”____ Years of It, in One ...   \n",
              "4                  ____ Test Positive for COVID at RNC   \n",
              "..                                                 ...   \n",
              "704       Liam Neeson Nabs Mel's Spot in Hangover ____   \n",
              "705         Dolla Shooting Suspect Held on $____M Bail   \n",
              "706   Rube Goldberg Machine Pops Balloon in ____ Steps   \n",
              "707  Egypt Bars ____ Hopefuls From Presidential Ele...   \n",
              "708  Exactly ____ Premarital Sex Partners Ups Divor...   \n",
              "\n",
              "                  predicted_value  \n",
              "0                              70  \n",
              "1                              15  \n",
              "2                               1  \n",
              "3                              10  \n",
              "4    No number found in response.  \n",
              "..                            ...  \n",
              "704                             2  \n",
              "705                             1  \n",
              "706                           300  \n",
              "707                            10  \n",
              "708  No number found in response.  \n",
              "\n",
              "[709 rows x 4 columns]"
            ]
          },
          "execution_count": 6,
          "metadata": {},
          "output_type": "execute_result"
        }
      ],
      "source": [
        "predicted"
      ]
    },
    {
      "cell_type": "markdown",
      "id": "b1783246-af68-48d7-a2a1-589839dd42a1",
      "metadata": {
        "id": "b1783246-af68-48d7-a2a1-589839dd42a1"
      },
      "source": [
        "# Using gpt-4 Acc -> 85"
      ]
    },
    {
      "cell_type": "code",
      "execution_count": null,
      "id": "8b9c7294-6fb8-490c-86fd-593d083778bb",
      "metadata": {
        "id": "8b9c7294-6fb8-490c-86fd-593d083778bb"
      },
      "outputs": [],
      "source": [
        "import openai\n",
        "import pandas as pd\n",
        "\n",
        "# Initialize OpenAI API key\n",
        "openai.api_key = 'XXXX'  # Replace with your actual OpenAI API key\n",
        "\n",
        "# Load your dataset (ensure the dataset has columns 'news' and 'headline')\n",
        "data = pd.read_csv('unlabelled_test_set_t3.csv')\n",
        "\n",
        "import re\n",
        "\n",
        "# Function to query GPT-4 API with the context (full news content and headline), including examples\n",
        "def get_response(news_content, headline):\n",
        "    messages = [\n",
        "        {\n",
        "            \"role\": \"system\",\n",
        "            \"content\": \"You are an AI assistant that helps fill in the missing numbers in news headlines based on the content of the news. Always return the number in numeric form, even if the number is initially written in words. For example, if the number is 'four', return '4'.\"\n",
        "        },\n",
        "        {\n",
        "            \"role\": \"user\",\n",
        "            \"content\": f\"Based on the following news: '{news_content}', fill in the missing number in this headline: '{headline}'\"\n",
        "        }\n",
        "    ]\n",
        "    try:\n",
        "        response = openai.ChatCompletion.create(\n",
        "            model=\"gpt-4\",  # Switch to GPT-4\n",
        "            messages=messages,\n",
        "            max_tokens=4000,  # Limit for concise responses\n",
        "            temperature=0.3\n",
        "        )\n",
        "        result = response['choices'][0]['message']['content'].strip()\n",
        "        # Extract numeric value using regex\n",
        "        match = re.search(r'\\d+', result)\n",
        "        if match:\n",
        "            return match.group()\n",
        "        else:\n",
        "            return \"No number found in response.\"\n",
        "    except Exception as e:\n",
        "        print(f\"Error getting response from OpenAI: {e}\")\n",
        "        return \"An error occurred while processing your query.\"\n",
        "\n",
        "# Apply the prediction function to each row\n",
        "def predict_missing_value(row):\n",
        "    news_content = row['news']   # Full news content from the 'news' column\n",
        "    headline = row['headline']   # Headline with a missing number\n",
        "    return get_response(news_content, headline)\n",
        "\n",
        "# Apply the function to your dataframe\n",
        "data['predicted_value'] = data.apply(predict_missing_value, axis=1)"
      ]
    },
    {
      "cell_type": "code",
      "execution_count": null,
      "id": "c0d201cb-0b8c-4ec1-b8f2-84491a1538df",
      "metadata": {
        "id": "c0d201cb-0b8c-4ec1-b8f2-84491a1538df"
      },
      "outputs": [],
      "source": [
        "data.to_csv('predicted_numbers.csv', index=False)"
      ]
    }
  ],
  "metadata": {
    "kernelspec": {
      "display_name": "venv",
      "language": "python",
      "name": "venv"
    },
    "language_info": {
      "codemirror_mode": {
        "name": "ipython",
        "version": 3
      },
      "file_extension": ".py",
      "mimetype": "text/x-python",
      "name": "python",
      "nbconvert_exporter": "python",
      "pygments_lexer": "ipython3",
      "version": "3.12.4"
    },
    "colab": {
      "provenance": []
    }
  },
  "nbformat": 4,
  "nbformat_minor": 5
}